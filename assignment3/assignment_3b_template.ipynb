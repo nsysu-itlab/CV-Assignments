{
 "cells": [
  {
   "cell_type": "code",
   "execution_count": null,
   "metadata": {},
   "outputs": [],
   "source": [
    "from tensorflow.keras.layers import MaxPooling2D, Conv2D\n",
    "import numpy as np\n",
    "import tensorflow as tf\n",
    "\n",
    "# Step 2 (30 points)\n",
    "def net48_siso(): \n",
    "    height, width = 48, 48\n",
    "    inputs = tf.keras.Input((height, width, 3));\n",
    "    x = Conv2D(8,3,1,'same',activation='relu')(inputs)\n",
    "    # enter your code here\n",
    "    outputs = x\n",
    "    return tf.keras.Model(inputs = inputs, outputs = outputs)\n"
   ]
  },
  {
   "cell_type": "code",
   "execution_count": null,
   "metadata": {},
   "outputs": [],
   "source": [
    "# Step 3 (15 points)\n",
    "def net48_simo(): \n",
    "    height, width = 48, 48\n",
    "    inputs = tf.keras.Input((height, width, 3));\n",
    "    x = Conv2D(8,3,1,'same',activation='relu')(inputs)\n",
    "    # enter your code here\n",
    "    outputs = x\n",
    "    # you need to modify the following line\n",
    "    return tf.keras.Model(inputs = inputs, outputs = outputs)"
   ]
  },
  {
   "cell_type": "code",
   "execution_count": null,
   "metadata": {},
   "outputs": [],
   "source": [
    "# Do not change below.\n",
    "def check_model(cnn_model, is_simo=False):\n",
    "  print('Checking the CNN model...')\n",
    "  is_passed = True\n",
    "  is_cls_output = False\n",
    "  is_reg_output = False\n",
    "  ishape = cnn_model.input_shape[1:]\n",
    "  if (48,48,3) != ishape:\n",
    "     print('Error! The input shape', ishape, 'is not equal to (48,48,3)')\n",
    "     is_passed = False\n",
    "  for i,layer in enumerate(cnn_model.layers):\n",
    "     if layer.name == 'cls_output':\n",
    "       oshape = layer.output_shape[1:]\n",
    "       is_cls_output = True\n",
    "       if (1,1,2) != oshape:\n",
    "          print('Error! The output shape', oshape, 'is not equal to (1,1,2)')\n",
    "          is_passed = False\n",
    "     if layer.name == 'reg_output':\n",
    "       oshape = layer.output_shape[1:]\n",
    "       is_reg_output = True\n",
    "       if (1,1,4) != oshape:\n",
    "          print('Error! The output shape', oshape, 'is not equal to (1,1,4)')\n",
    "          is_passed = False\n",
    "     layer_type = layer.__class__.__name__\n",
    "     if layer_type == 'Dense':\n",
    "       print('Error! Cannot use Dense layers.')\n",
    "       is_passed = False\n",
    "     if layer_type == 'Conv2D':\n",
    "       kernel_size = layer.kernel_size\n",
    "       strides = layer.strides\n",
    "       if np.max(kernel_size) > 7:\n",
    "         print('({:d} {:s}) Error! kernel_size should be less than or equal to 7'.format(i, layer_type))\n",
    "         is_passed = False\n",
    "       if np.max(strides) > 2:\n",
    "         print('({:d} {:s}) Error! stride should be less than or equal to 2'.format(i, layer_type))\n",
    "         is_passed = False\n",
    "     if layer_type == 'MaxPooling2D':\n",
    "       pool_size = layer.pool_size\n",
    "       strides = layer.strides\n",
    "       if np.max(pool_size) > 2:\n",
    "         print('({:d} {:s}) Error! pool_size should be less than or equal to 2'.format(i, layer_type))\n",
    "         is_passed = False\n",
    "       if np.max(strides) > 2:\n",
    "         print('({:d} {:s}) Error! stride should be less than or equal to 2'.format(i, layer_type))\n",
    "         is_passed = False\n",
    "  if not is_cls_output:\n",
    "     print('Error! There should be a Conv. layer with name cls_output')\n",
    "     is_passed = False\n",
    "  if is_simo:\n",
    "     if not is_reg_output:\n",
    "       print('Error! There should be a Conv. layer with name reg_output')\n",
    "       is_passed = False\n",
    "  if is_passed:\n",
    "     print('Great! The CNN model satisfies all the requirements.')\n"
   ]
  },
  {
   "cell_type": "code",
   "execution_count": null,
   "metadata": {},
   "outputs": [],
   "source": [
    "# Do not change below.\n",
    "model48_siso = net48_siso()\n",
    "model48_siso.summary()\n",
    "check_model(model48_siso)\n",
    "print()"
   ]
  },
  {
   "cell_type": "code",
   "execution_count": null,
   "metadata": {},
   "outputs": [],
   "source": [
    "# Do not change below.\n",
    "model48_simo = net48_simo()\n",
    "model48_simo.summary()\n",
    "check_model(model48_simo, is_simo=True)\n",
    "print()"
   ]
  },
  {
   "cell_type": "code",
   "execution_count": null,
   "metadata": {},
   "outputs": [],
   "source": [
    "# Do not change below.\n",
    "img = np.random.randn(1, 48, 48, 3)\n",
    "outputs = model48_simo.predict(img)\n",
    "print(outputs[0].shape) # should display (1,1,1,2)\n",
    "print(outputs[1].shape) # should display (1,1,1,4)\n",
    "cls = np.reshape(outputs[0], (2,))\n",
    "reg = np.reshape(outputs[1], (4,))\n",
    "print(cls)"
   ]
  },
  {
   "cell_type": "code",
   "execution_count": null,
   "metadata": {},
   "outputs": [],
   "source": [
    "# Question 2 (5 points)\n",
    "# Why cls[0] + cls[1] is always equal to one regardless of  the values of img?"
   ]
  }
 ],
 "metadata": {
  "kernelspec": {
   "display_name": "tf23",
   "language": "python",
   "name": "tf23"
  },
  "language_info": {
   "codemirror_mode": {
    "name": "ipython",
    "version": 3
   },
   "file_extension": ".py",
   "mimetype": "text/x-python",
   "name": "python",
   "nbconvert_exporter": "python",
   "pygments_lexer": "ipython3",
   "version": "3.8.13"
  }
 },
 "nbformat": 4,
 "nbformat_minor": 2
}
