{
 "cells": [
  {
   "cell_type": "code",
   "execution_count": 37,
   "metadata": {},
   "outputs": [],
   "source": [
    "from tensorflow.keras.layers import MaxPooling2D, Conv2D\n",
    "import numpy as np\n",
    "import tensorflow as tf\n",
    "\n",
    "# Step 2 (30 points)\n",
    "def net48_siso(): \n",
    "    height, width = 48, 48\n",
    "    inputs = tf.keras.Input((height, width, 3));\n",
    "    x = Conv2D(8,3,1,'same',activation='relu')(inputs)\n",
    "    x = MaxPooling2D(2, 2)(x)\n",
    "    x = Conv2D(8, 5, 2, activation='relu')(x)\n",
    "    x = MaxPooling2D(2, 2)(x)\n",
    "    x = Conv2D(2, 5, 2, activation='softmax', name=\"cls_output\")(x)\n",
    "    outputs = x\n",
    "    return tf.keras.Model(inputs = inputs, outputs = outputs)\n"
   ]
  },
  {
   "cell_type": "code",
   "execution_count": 38,
   "metadata": {},
   "outputs": [],
   "source": [
    "# Step 3 (15 points)\n",
    "def net48_simo(): \n",
    "    height, width = 48, 48\n",
    "    inputs = tf.keras.Input((height, width, 3));\n",
    "    x = Conv2D(8,3,1,'same',activation='relu')(inputs)\n",
    "    x = MaxPooling2D(2, 2)(x)\n",
    "    x = Conv2D(8, 5, 2, activation='relu')(x)\n",
    "    x = MaxPooling2D(2, 2)(x)\n",
    "    x = Conv2D(2, 5, 2, activation='softmax', name=\"cls_output\")(x)\n",
    "    x_2 = Conv2D(4, 1, 1, padding=\"same\", name=\"reg_output\")(x)\n",
    "    outputs = x_2\n",
    "    # you need to modify the following line\n",
    "    return tf.keras.Model(inputs = inputs, outputs = [x, x_2])"
   ]
  },
  {
   "cell_type": "code",
   "execution_count": 39,
   "metadata": {},
   "outputs": [],
   "source": [
    "# Do not change below.\n",
    "def check_model(cnn_model, is_simo=False):\n",
    "  print('Checking the CNN model...')\n",
    "  is_passed = True\n",
    "  is_cls_output = False\n",
    "  is_reg_output = False\n",
    "  ishape = cnn_model.input_shape[1:]\n",
    "  if (48,48,3) != ishape:\n",
    "     print('Error! The input shape', ishape, 'is not equal to (48,48,3)')\n",
    "     is_passed = False\n",
    "  for i,layer in enumerate(cnn_model.layers):\n",
    "     if layer.name == 'cls_output':\n",
    "       oshape = layer.output_shape[1:]\n",
    "       is_cls_output = True\n",
    "       if (1,1,2) != oshape:\n",
    "          print('Error! The output shape', oshape, 'is not equal to (1,1,2)')\n",
    "          is_passed = False\n",
    "     if layer.name == 'reg_output':\n",
    "       oshape = layer.output_shape[1:]\n",
    "       is_reg_output = True\n",
    "       if (1,1,4) != oshape:\n",
    "          print('Error! The output shape', oshape, 'is not equal to (1,1,4)')\n",
    "          is_passed = False\n",
    "     layer_type = layer.__class__.__name__\n",
    "     if layer_type == 'Dense':\n",
    "       print('Error! Cannot use Dense layers.')\n",
    "       is_passed = False\n",
    "     if layer_type == 'Conv2D':\n",
    "       kernel_size = layer.kernel_size\n",
    "       strides = layer.strides\n",
    "       if np.max(kernel_size) > 7:\n",
    "         print('({:d} {:s}) Error! kernel_size should be less than or equal to 7'.format(i, layer_type))\n",
    "         is_passed = False\n",
    "       if np.max(strides) > 2:\n",
    "         print('({:d} {:s}) Error! stride should be less than or equal to 2'.format(i, layer_type))\n",
    "         is_passed = False\n",
    "     if layer_type == 'MaxPooling2D':\n",
    "       pool_size = layer.pool_size\n",
    "       strides = layer.strides\n",
    "       if np.max(pool_size) > 2:\n",
    "         print('({:d} {:s}) Error! pool_size should be less than or equal to 2'.format(i, layer_type))\n",
    "         is_passed = False\n",
    "       if np.max(strides) > 2:\n",
    "         print('({:d} {:s}) Error! stride should be less than or equal to 2'.format(i, layer_type))\n",
    "         is_passed = False\n",
    "  if not is_cls_output:\n",
    "     print('Error! There should be a Conv. layer with name cls_output')\n",
    "     is_passed = False\n",
    "  if is_simo:\n",
    "     if not is_reg_output:\n",
    "       print('Error! There should be a Conv. layer with name reg_output')\n",
    "       is_passed = False\n",
    "  if is_passed:\n",
    "     print('Great! The CNN model satisfies all the requirements.')\n"
   ]
  },
  {
   "cell_type": "code",
   "execution_count": 40,
   "metadata": {},
   "outputs": [
    {
     "name": "stdout",
     "output_type": "stream",
     "text": [
      "Model: \"model_9\"\n",
      "_________________________________________________________________\n",
      " Layer (type)                Output Shape              Param #   \n",
      "=================================================================\n",
      " input_10 (InputLayer)       [(None, 48, 48, 3)]       0         \n",
      "                                                                 \n",
      " conv2d_19 (Conv2D)          (None, 48, 48, 8)         224       \n",
      "                                                                 \n",
      " max_pooling2d_18 (MaxPoolin  (None, 24, 24, 8)        0         \n",
      " g2D)                                                            \n",
      "                                                                 \n",
      " conv2d_20 (Conv2D)          (None, 10, 10, 8)         1608      \n",
      "                                                                 \n",
      " max_pooling2d_19 (MaxPoolin  (None, 5, 5, 8)          0         \n",
      " g2D)                                                            \n",
      "                                                                 \n",
      " cls_output (Conv2D)         (None, 1, 1, 2)           402       \n",
      "                                                                 \n",
      "=================================================================\n",
      "Total params: 2,234\n",
      "Trainable params: 2,234\n",
      "Non-trainable params: 0\n",
      "_________________________________________________________________\n",
      "Checking the CNN model...\n",
      "Great! The CNN model satisfies all the requirements.\n",
      "\n"
     ]
    }
   ],
   "source": [
    "# Do not change below.\n",
    "model48_siso = net48_siso()\n",
    "model48_siso.summary()\n",
    "check_model(model48_siso)\n",
    "print()"
   ]
  },
  {
   "cell_type": "code",
   "execution_count": 41,
   "metadata": {},
   "outputs": [
    {
     "name": "stdout",
     "output_type": "stream",
     "text": [
      "Model: \"model_10\"\n",
      "_________________________________________________________________\n",
      " Layer (type)                Output Shape              Param #   \n",
      "=================================================================\n",
      " input_11 (InputLayer)       [(None, 48, 48, 3)]       0         \n",
      "                                                                 \n",
      " conv2d_21 (Conv2D)          (None, 48, 48, 8)         224       \n",
      "                                                                 \n",
      " max_pooling2d_20 (MaxPoolin  (None, 24, 24, 8)        0         \n",
      " g2D)                                                            \n",
      "                                                                 \n",
      " conv2d_22 (Conv2D)          (None, 10, 10, 8)         1608      \n",
      "                                                                 \n",
      " max_pooling2d_21 (MaxPoolin  (None, 5, 5, 8)          0         \n",
      " g2D)                                                            \n",
      "                                                                 \n",
      " cls_output (Conv2D)         (None, 1, 1, 2)           402       \n",
      "                                                                 \n",
      " reg_output (Conv2D)         (None, 1, 1, 4)           12        \n",
      "                                                                 \n",
      "=================================================================\n",
      "Total params: 2,246\n",
      "Trainable params: 2,246\n",
      "Non-trainable params: 0\n",
      "_________________________________________________________________\n",
      "Checking the CNN model...\n",
      "Great! The CNN model satisfies all the requirements.\n",
      "\n"
     ]
    }
   ],
   "source": [
    "# Do not change below.\n",
    "model48_simo = net48_simo()\n",
    "model48_simo.summary()\n",
    "check_model(model48_simo, is_simo=True)\n",
    "print()"
   ]
  },
  {
   "cell_type": "code",
   "execution_count": 42,
   "metadata": {},
   "outputs": [
    {
     "name": "stdout",
     "output_type": "stream",
     "text": [
      "(1, 1, 1, 2)\n",
      "(1, 1, 1, 4)\n",
      "[0.4779248  0.52207524]\n"
     ]
    }
   ],
   "source": [
    "# Do not change below.\n",
    "img = np.random.randn(1, 48, 48, 3)\n",
    "outputs = model48_simo.predict(img)\n",
    "print(outputs[0].shape) # should display (1,1,1,2)\n",
    "print(outputs[1].shape) # should display (1,1,1,4)\n",
    "cls = np.reshape(outputs[0], (2,))\n",
    "reg = np.reshape(outputs[1], (4,))\n",
    "print(cls)"
   ]
  },
  {
   "attachments": {},
   "cell_type": "markdown",
   "metadata": {},
   "source": [
    "# Question 2 (5 points) Why cls[0] + cls[1] is always equal to one regardless of  the values of img?\n",
    "\n",
    "Due to the output activation function we used is softmax, the summary of the all output class must be 1. that's the reason.\n"
   ]
  }
 ],
 "metadata": {
  "kernelspec": {
   "display_name": "3d_vision",
   "language": "python",
   "name": "python3"
  },
  "language_info": {
   "codemirror_mode": {
    "name": "ipython",
    "version": 3
   },
   "file_extension": ".py",
   "mimetype": "text/x-python",
   "name": "python",
   "nbconvert_exporter": "python",
   "pygments_lexer": "ipython3",
   "version": "3.8.16"
  },
  "vscode": {
   "interpreter": {
    "hash": "9101007b1588cd8fea2ba646ca1629c6bfb21bc0651a2a180dbb35af30bf7328"
   }
  }
 },
 "nbformat": 4,
 "nbformat_minor": 2
}
