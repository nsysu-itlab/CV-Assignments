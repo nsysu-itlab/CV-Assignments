{
 "cells": [
  {
   "cell_type": "code",
   "execution_count": 1,
   "metadata": {},
   "outputs": [
    {
     "name": "stdout",
     "output_type": "stream",
     "text": [
      "\n",
      "        width < 10 : 34706\n",
      "  10 <= width < 20 : 57250\n",
      "  20 <= width < 30 : 24885\n",
      "  30 <= width < 40 : 13338\n",
      "  40 <= width < 50 : 8011\n",
      "  50 <= width      : 20178\n",
      "  \n",
      "\n",
      "         width/height < 0.6 : 7720\n",
      "  0.5 <= width/height < 0.7 : 22966\n",
      "  0.7 <= width/height < 0.8 : 46997\n",
      "  0.8 <= width/height < 0.9 : 45458\n",
      "  0.9 <= width/height < 1.0 : 16786\n",
      "  1.0 <= width/height       : 9341\n",
      "  \n"
     ]
    },
    {
     "data": {
      "image/png": "[encoded data removed]",
      "text/plain": [
       "<Figure size 640x480 with 1 Axes>"
      ]
     },
     "metadata": {},
     "output_type": "display_data"
    }
   ],
   "source": [
    "from itertools import count\n",
    "import numpy as np\n",
    "import matplotlib.pyplot as plt\n",
    "%matplotlib inline\n",
    "\n",
    "def extract_bbox(line):\n",
    "  annotation = line.strip().split(\" \")\n",
    "  bbox_ls = np.reshape(np.array(annotation[1:]), [-1, 4])\n",
    "  return bbox_ls\n",
    "\n",
    "def get_width_asp_ratio(bbox_ls):\n",
    "  width_ls = []\n",
    "  asp_ratio_ls =[]\n",
    "  for idx, bbox in enumerate(bbox_ls):\n",
    "    x1, y1, x2, y2 = int(bbox[0]), int(bbox[1]), int(bbox[2]), int(bbox[3])\n",
    "    if not (x1>=0 and y1>=0 and x2>x1 and y2>y1): #check validate\n",
    "      continue\n",
    "    width, height = x2-x1+1, y2-y1+1\n",
    "    width_ls.append(width)\n",
    "    asp = width/ height\n",
    "    asp_ratio_ls.append(asp)\n",
    "  return width_ls, asp_ratio_ls\n",
    "\n",
    "def get_info(width_ls, asp_ratio_ls):\n",
    "  #width\n",
    "  width_cond_ls = [10, 20, 30, 40, 50]\n",
    "  num_cond1_width = sum(map(lambda x: x<width_cond_ls[0], width_ls))\n",
    "  num_cond2_width = sum(map(lambda x: x<width_cond_ls[1] and x>=width_cond_ls[0], width_ls))\n",
    "  num_cond3_width = sum(map(lambda x: x<width_cond_ls[2] and x>=width_cond_ls[1], width_ls))\n",
    "  num_cond4_width = sum(map(lambda x: x<width_cond_ls[3] and x>=width_cond_ls[2], width_ls))\n",
    "  num_cond5_width = sum(map(lambda x: x<width_cond_ls[4] and x>=width_cond_ls[3], width_ls))\n",
    "  num_cond6_width = sum(map(lambda x: x>width_cond_ls[4], width_ls))\n",
    "  num_cond_width = [num_cond1_width, num_cond2_width, num_cond3_width, num_cond4_width, num_cond5_width, num_cond6_width]\n",
    "  #asp\n",
    "  asp_cond_ls = [0.6, 0.7, 0.8, 0.9, 1.0]\n",
    "  num_cond1_asp = sum(map(lambda x: x<asp_cond_ls[0], asp_ratio_ls))\n",
    "  num_cond2_asp = sum(map(lambda x: x<asp_cond_ls[1] and x>=asp_cond_ls[0], asp_ratio_ls))\n",
    "  num_cond3_asp = sum(map(lambda x: x<asp_cond_ls[2] and x>=asp_cond_ls[1], asp_ratio_ls))\n",
    "  num_cond4_asp = sum(map(lambda x: x<asp_cond_ls[3] and x>=asp_cond_ls[2], asp_ratio_ls))\n",
    "  num_cond5_asp = sum(map(lambda x: x<asp_cond_ls[4] and x>=asp_cond_ls[3], asp_ratio_ls))\n",
    "  num_cond6_asp = sum(map(lambda x: x>asp_cond_ls[4], asp_ratio_ls))\n",
    "  num_cond_asp = [num_cond1_asp, num_cond2_asp, num_cond3_asp, num_cond4_asp, num_cond5_asp, num_cond6_asp]\n",
    "  return num_cond_width, num_cond_asp\n",
    "\n",
    "def display_info(total_num_cond_width, total_num_cond_asp):\n",
    "  # display width\n",
    "  display_text = f\"\"\"\n",
    "        width < 10 : {int(total_num_cond_width[0])}\n",
    "  10 <= width < 20 : {int(total_num_cond_width[1])}\n",
    "  20 <= width < 30 : {int(total_num_cond_width[2])}\n",
    "  30 <= width < 40 : {int(total_num_cond_width[3])}\n",
    "  40 <= width < 50 : {int(total_num_cond_width[4])}\n",
    "  50 <= width      : {int(total_num_cond_width[5])}\n",
    "  \"\"\"\n",
    "  print(display_text)\n",
    "  # display asp_ratio\n",
    "  display_text = f\"\"\"\n",
    "         width/height < 0.6 : {int(total_num_cond_asp[0])}\n",
    "  0.5 <= width/height < 0.7 : {int(total_num_cond_asp[1])}\n",
    "  0.7 <= width/height < 0.8 : {int(total_num_cond_asp[2])}\n",
    "  0.8 <= width/height < 0.9 : {int(total_num_cond_asp[3])}\n",
    "  0.9 <= width/height < 1.0 : {int(total_num_cond_asp[4])}\n",
    "  1.0 <= width/height       : {int(total_num_cond_asp[5])}\n",
    "  \"\"\"\n",
    "  print(display_text)\n",
    "\n",
    "def plot_histogram(widt):\n",
    "  pass\n",
    "\n",
    "\n",
    "if __name__ == '__main__':\n",
    "  anno_file = 'annotation.txt'\n",
    "  with open(anno_file, 'r') as fp:\n",
    "    lines = fp.readlines()\n",
    "  # Enter your code here (25%)\n",
    "  total_num_cond_width = np.zeros((6))\n",
    "  total_num_cond_asp = np.zeros((6))\n",
    "  all_valid_width_ls = np.array([])\n",
    "  for line in lines:\n",
    "    bboxs = extract_bbox(line)\n",
    "    width_ls, asp_ls = get_width_asp_ratio(bboxs)\n",
    "    all_valid_width_ls = np.hstack((all_valid_width_ls, np.array(width_ls)))\n",
    "    num_cond_width, num_cond_asp = get_info(width_ls, asp_ls)\n",
    "    total_num_cond_width = np.add(total_num_cond_width, np.array(num_cond_width))\n",
    "    total_num_cond_asp = np.add(total_num_cond_asp, np.array(num_cond_asp))\n",
    "  display_info(total_num_cond_width, total_num_cond_asp)\n",
    "  plt.figure()\n",
    "  plt.hist(all_valid_width_ls, range(0, 101, 10), rwidth=0.85)\n",
    "  plt.xlabel(\"Width\")\n",
    "  plt.ylabel(\"Counts\")\n",
    "  plt.title(\"number of valid bounding box\")\n",
    "  plt.show()"
   ]
  },
  {
   "cell_type": "code",
   "execution_count": 2,
   "metadata": {},
   "outputs": [
    {
     "name": "stdout",
     "output_type": "stream",
     "text": [
      "Invalid Bounding Box number : 535\n"
     ]
    }
   ],
   "source": [
    "# Step 2b.5: In Step 2b.1, we only consider valid bounding boxes. How many bounding boxes are invalid? Modify the above code to find the answer. (5%)\n",
    "# Write down your answer here.\n",
    "def count_invalid(bbox_ls):\n",
    "  invalid_bbox_num = 0\n",
    "  for idx, bbox in enumerate(bbox_ls):\n",
    "    x1, y1, x2, y2 = int(bbox[0]), int(bbox[1]), int(bbox[2]), int(bbox[3])\n",
    "    if not (x1>=0 and y1>=0 and x2>x1 and y2>y1): #check validate\n",
    "      invalid_bbox_num += 1\n",
    "      continue\n",
    "  return invalid_bbox_num\n",
    "\n",
    "if __name__ == \"__main__\":\n",
    "  anno_file = 'annotation.txt'\n",
    "  with open(anno_file, 'r') as fp:\n",
    "    lines = fp.readlines()\n",
    "  total_invalid_num = 0\n",
    "  for line in lines:\n",
    "    bbox = extract_bbox(line)\n",
    "    invalid_num = count_invalid(bbox)\n",
    "    total_invalid_num = total_invalid_num + invalid_num\n",
    "  print(f\"Invalid Bounding Box number : {total_invalid_num}\")\n",
    "  pass"
   ]
  }
 ],
 "metadata": {
  "kernelspec": {
   "display_name": "3d_vision",
   "language": "python",
   "name": "python3"
  },
  "language_info": {
   "codemirror_mode": {
    "name": "ipython",
    "version": 3
   },
   "file_extension": ".py",
   "mimetype": "text/x-python",
   "name": "python",
   "nbconvert_exporter": "python",
   "pygments_lexer": "ipython3",
   "version": "3.8.16"
  },
  "vscode": {
   "interpreter": {
    "hash": "9101007b1588cd8fea2ba646ca1629c6bfb21bc0651a2a180dbb35af30bf7328"
   }
  }
 },
 "nbformat": 4,
 "nbformat_minor": 2
}
