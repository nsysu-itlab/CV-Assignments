{
 "cells": [
  {
   "cell_type": "code",
   "execution_count": null,
   "metadata": {},
   "outputs": [],
   "source": [
    "import tensorflow as tf\n",
    "from tensorflow import keras\n",
    "from tensorflow.keras.callbacks import TensorBoard, ModelCheckpoint\n",
    "\n",
    "import numpy as np\n",
    "import matplotlib.pyplot as plt\n",
    "import os\n",
    "\n",
    "%matplotlib inline\n",
    "\n",
    "def show_image_grids(train_images, train_labels):\n",
    "  plt.figure(figsize=(10,10))\n",
    "  for i in range(25):\n",
    "      plt.subplot(5,5,i+1)\n",
    "      plt.xticks([])\n",
    "      plt.yticks([])\n",
    "      plt.grid(False)\n",
    "      plt.imshow(train_images[i], cmap=plt.cm.binary)\n",
    "      plt.xlabel(class_names[train_labels[i]])\n",
    "  plt.show()\n",
    "\n",
    "if __name__ == '__main__':\n",
    "  fashion_mnist = keras.datasets.fashion_mnist\n",
    "  (train_images, train_labels), (test_images, test_labels) = fashion_mnist.load_data()\n",
    "  print(train_images.shape)\n",
    "  print(train_labels.shape)\n",
    "  print(test_images.shape)\n",
    "  print(test_labels.shape)\n",
    "    \n",
    "  class_names = ['T-shirt/top', 'Trouser', 'Pullover', 'Dress', 'Coat', \n",
    "                 'Sandal', 'Shirt', 'Sneaker', 'Bag', 'Ankle boot']\n",
    "\n",
    "  #show_image_grids(train_images, train_labels) \n",
    "    \n",
    "  # Steps 3~8 (10 points)\n",
    "  \n",
    "  # Steps 9, 10 (5 points)\n",
    "\n",
    "  # Step 12 (5 points)\n",
    "\n",
    "  # Step 13 (10 points)\n",
    "\n",
    "  # Step 14 (10 points)"
   ]
  },
  {
   "cell_type": "code",
   "execution_count": null,
   "metadata": {},
   "outputs": [],
   "source": [
    "# Question 1. What is the difference between the following two options in model.compile()? (5 points)\n",
    "#\tloss='categorical_crossentropy'\n",
    "#\tloss='sparse_categorical_crossentropy'\n",
    "# Use an example to illustrate the difference.\n",
    "# Write down your answer here."
   ]
  }
 ],
 "metadata": {
  "kernelspec": {
   "display_name": "Python 3 (ipykernel)",
   "language": "python",
   "name": "python3"
  },
  "language_info": {
   "codemirror_mode": {
    "name": "ipython",
    "version": 3
   },
   "file_extension": ".py",
   "mimetype": "text/x-python",
   "name": "python",
   "nbconvert_exporter": "python",
   "pygments_lexer": "ipython3",
   "version": "3.9.12"
  }
 },
 "nbformat": 4,
 "nbformat_minor": 2
}
