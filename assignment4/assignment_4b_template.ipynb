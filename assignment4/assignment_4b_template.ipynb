{
 "cells": [
  {
   "cell_type": "code",
   "execution_count": null,
   "metadata": {},
   "outputs": [],
   "source": [
    "import os, sys\n",
    "import cv2\n",
    "import numpy as np\n",
    "import pickle\n",
    "import tensorflow as tf\n",
    "from tensorflow import keras\n",
    "from tensorflow.keras.layers import MaxPooling2D, Conv2D, Dense, Flatten\n",
    "import matplotlib.pyplot as plt\n",
    "\n",
    "def get_data_from_file(train_file):\n",
    "  train_data = []\n",
    "  # enter your code here (7 points)\n",
    "  return train_data\n",
    "\n",
    "def get_image_and_label(train_data):\n",
    "  # enter your code here (8 points)\n",
    "  return X_train, Y_train\n",
    "\n",
    "def assignment4b_1():\n",
    "  train_file = 'train_list.txt'\n",
    "  test_file = 'test_list.txt'\n",
    "  train_data = get_data_from_file(train_file)\n",
    "  X_train, Y_train = get_image_and_label(train_data)\n",
    "  print()  \n",
    "  test_data = get_data_from_file(test_file)\n",
    "  X_test, Y_test = get_image_and_label(test_data)\n",
    "  print()\n",
    "  print(len(train_data))\n",
    "  print(train_data[0][0].shape)\n",
    "  print(len(test_data))\n",
    "  print(test_data[0][0].shape)\n",
    "\n",
    "  save_path = 'dogs_cats.pkl'\n",
    "  print('Saving to', save_path)\n",
    "  data = {}\n",
    "  data['X_train'] = X_train\n",
    "  data['Y_train'] = Y_train\n",
    "  data['X_test'] = X_test\n",
    "  data['Y_test'] = Y_test\n",
    "  pickle.dump(data, open(save_path, 'wb'))\n",
    "\n",
    "def build_model():\n",
    "  # enter your code here, and remove the following pass (15 points)\n",
    "  pass\n",
    "\n",
    "def assignment4b_2():\n",
    "  data = pickle.load(open(\"dogs_cats.pkl\",\"rb\"))\n",
    "  X_train, Y_train, X_test, Y_test = data[\"X_train\"], data[\"Y_train\"], data[\"X_test\"], data[\"Y_test\"]\n",
    "  X_train = X_train / 255.0\n",
    "  X_test = X_test / 255.0\n",
    "  model = build_model()\n",
    "  model.summary()\n",
    "  model.compile(optimizer='adam', \n",
    "                loss='sparse_categorical_crossentropy',\n",
    "                metrics=['accuracy'])\n",
    "  ck_dir = \"ckpt_dogcat\"\n",
    "  checkpoint_path = ck_dir+\"/cp-{epoch:04d}.ckpt\"\n",
    "  cp_callback = keras.callbacks.ModelCheckpoint(checkpoint_path, save_weights_only=True, verbose=1, period=10)\n",
    "  batch_size = 64\n",
    "  epochs = 60\n",
    "  # enter your code here (5 points)\n",
    "    \n",
    "def assignment4b_3():\n",
    "  # enter your code here, and remove the following pass (5 points)\n",
    "  pass\n",
    "\n",
    "def assignment4b_4():\n",
    "  # enter your code here, and remove the following pass (5 points)\n",
    "  pass\n"
   ]
  },
  {
   "cell_type": "code",
   "execution_count": null,
   "metadata": {},
   "outputs": [],
   "source": [
    "if __name__ == '__main__':\n",
    "    assignment4b_1() # do not modify this line"
   ]
  },
  {
   "cell_type": "code",
   "execution_count": null,
   "metadata": {},
   "outputs": [],
   "source": [
    "    assignment4b_2() # do not modify this line"
   ]
  },
  {
   "cell_type": "code",
   "execution_count": null,
   "metadata": {},
   "outputs": [],
   "source": [
    "    assignment4b_3() # do not modify this line"
   ]
  },
  {
   "cell_type": "code",
   "execution_count": null,
   "metadata": {},
   "outputs": [],
   "source": [
    "    assignment4b_4() # do not modify this line"
   ]
  },
  {
   "cell_type": "code",
   "execution_count": null,
   "metadata": {},
   "outputs": [],
   "source": [
    "# Question 1 (5 points): If we set shuffle=False during the execution of model.fit() in Assignment 4b-2,\n",
    "# which was previously set to shuffle=True, what impact will this have on the validation accuracy?\n",
    "# Write down your answer here."
   ]
  },
  {
   "cell_type": "code",
   "execution_count": null,
   "metadata": {},
   "outputs": [],
   "source": [
    "# Question 2 (5 points): In Assignment 4b-4, what epoch yields the highest test accuracy, and what is the reason for this?\n",
    "# Write down your answer here."
   ]
  }
 ],
 "metadata": {
  "kernelspec": {
   "display_name": "Python 3 (ipykernel)",
   "language": "python",
   "name": "python3"
  },
  "language_info": {
   "codemirror_mode": {
    "name": "ipython",
    "version": 3
   },
   "file_extension": ".py",
   "mimetype": "text/x-python",
   "name": "python",
   "nbconvert_exporter": "python",
   "pygments_lexer": "ipython3",
   "version": "3.9.12"
  }
 },
 "nbformat": 4,
 "nbformat_minor": 2
}
