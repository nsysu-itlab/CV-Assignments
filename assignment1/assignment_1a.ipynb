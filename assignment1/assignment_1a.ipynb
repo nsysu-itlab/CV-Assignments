{
 "cells": [
  {
   "cell_type": "code",
   "execution_count": 1,
   "metadata": {},
   "outputs": [
    {
     "name": "stdout",
     "output_type": "stream",
     "text": [
      "case1\n",
      "A = [[ 3  2 -1]\n",
      " [ 6 -1  3]\n",
      " [ 1 10 -2]] b = [[-7 -4  2]]\n",
      "The linear system Ax=b has only one solution.\n",
      "The solution is  [[-2.]\n",
      " [ 1.]\n",
      " [ 3.]]\n",
      "\n",
      "case2\n",
      "A = [[ 4 -1  3]\n",
      " [21 -4 18]\n",
      " [-9  1 -9]] b = [[ 5  7 -8]]\n",
      "The linear system Ax=b has no solutions.\n",
      "\n",
      "case3\n",
      "A = [[ 7 -4  1]\n",
      " [ 3  2 -1]\n",
      " [ 5 12 -5]] b = [[-15  -5  -5]]\n",
      "The linear system Ax=b has infinitely many solutions.\n",
      "\n"
     ]
    }
   ],
   "source": [
    "import numpy as np\n",
    "\n",
    "def solve_linear_equation(A, b):\n",
    "  #TODO:\n",
    "  # enter your code here, and remove the following line (30%)\n",
    "  rank_a = np.linalg.matrix_rank(A)\n",
    "  matrix_ab = np.hstack([A, b])\n",
    "  rank_ab = np.linalg.matrix_rank(matrix_ab)\n",
    "  if rank_a == rank_ab:\n",
    "    # consistent, at least one sol\n",
    "    n = A.shape[1]\n",
    "    if rank_a == n:\n",
    "      # rank a = n, at most one sol\n",
    "      return 1\n",
    "    else:\n",
    "      return 0\n",
    "  else:\n",
    "    # no sol\n",
    "    return -1\n",
    "\n",
    "def flag_to_message(flag):\n",
    "   if flag == 1:\n",
    "     print('The linear system Ax=b has only one solution.')\n",
    "   elif flag == 0:\n",
    "     print('The linear system Ax=b has infinitely many solutions.')\n",
    "   elif flag == -1:\n",
    "     print('The linear system Ax=b has no solutions.')\n",
    "   else:\n",
    "     print('Unknown flag!')\n",
    "\n",
    "def get_input_data(input_id):\n",
    "   if input_id == 'case1': \n",
    "     A = np.array([[3, 2, -1], [6, -1, 3], [1, 10, -2]])\n",
    "     b = np.array([[-7], [-4], [2]])\n",
    "   elif input_id == 'case2':\n",
    "     A = np.array([[4, -1, 3], [21, -4, 18], [-9, 1, -9]])\n",
    "     b = np.array([[5], [7], [-8]])\n",
    "   elif input_id == 'case3':\n",
    "     A = np.array([[7, -4, 1], [3, 2, -1], [5, 12, -5]])\n",
    "     b = np.array([[-15], [-5], [-5]])\n",
    "   return A, b\n",
    "\n",
    "if __name__ == '__main__':\n",
    "   for case in ['case1', 'case2', 'case3']:\n",
    "     A, b = get_input_data(case)\n",
    "     print(case)\n",
    "     print('A =', A, 'b =', b.T)\n",
    "     flag = solve_linear_equation(A, b)\n",
    "     flag_to_message(flag)\n",
    "     if flag == 1:\n",
    "       print('The solution is ', np.linalg.solve(A, b))\n",
    "     print()\n"
   ]
  },
  {
   "attachments": {},
   "cell_type": "markdown",
   "metadata": {},
   "source": [
    "## Q1\n",
    "can we use `np.linalg.solve()` to determine whether $Ax=b$ is consistent. Explain the reason (5%)"
   ]
  },
  {
   "attachments": {},
   "cell_type": "markdown",
   "metadata": {},
   "source": [
    "## Q1 Ans\n",
    "\n",
    "No, we cannot use `np.linalg.solve()` to determine $Ax=b$ is consistent or not. \n",
    "With $Ax = b$ consistent, the linear equation can be either one solution or infinite number of solution. However, `np.linalg.solve()` can only handled single solution problem. Hense, the linear equation with multiple solution will cause the error raised."
   ]
  },
  {
   "attachments": {},
   "cell_type": "markdown",
   "metadata": {},
   "source": [
    "## Q2\n",
    "\n",
    "Given matrix $A$ of dimension (m,n). If $rank(A) = n$, can we infer that $Ax=b$ is consistent? Expalin (5%)"
   ]
  },
  {
   "attachments": {},
   "cell_type": "markdown",
   "metadata": {},
   "source": [
    "## Q2 Ans\n",
    "\n",
    "Yes, if the rank of the coefficient matrix A is equal to the number of columns (n), then the linear system Ax = b is consistent for any constant vector b in R^m.\n",
    "\n",
    "if the rank(A)=n, it means that the columns of A are linearly independent, and the matrix has full column rank. Therefore, every column of A can be expressed as a linear combination of the other columns. so if rank(A) = n, then the linear equation is consistent for any constant vector $b\\in  R^m$"
   ]
  }
 ],
 "metadata": {
  "kernelspec": {
   "display_name": "3d_vision",
   "language": "python",
   "name": "python3"
  },
  "language_info": {
   "codemirror_mode": {
    "name": "ipython",
    "version": 3
   },
   "file_extension": ".py",
   "mimetype": "text/x-python",
   "name": "python",
   "nbconvert_exporter": "python",
   "pygments_lexer": "ipython3",
   "version": "3.8.16"
  },
  "vscode": {
   "interpreter": {
    "hash": "9101007b1588cd8fea2ba646ca1629c6bfb21bc0651a2a180dbb35af30bf7328"
   }
  }
 },
 "nbformat": 4,
 "nbformat_minor": 2
}
